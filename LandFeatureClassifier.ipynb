{
  "nbformat": 4,
  "nbformat_minor": 0,
  "metadata": {
    "colab": {
      "name": "LandFeatureClassifier.ipynb",
      "provenance": [],
      "collapsed_sections": []
    },
    "kernelspec": {
      "name": "python3",
      "display_name": "Python 3"
    }
  },
  "cells": [
    {
      "cell_type": "markdown",
      "metadata": {
        "id": "JH-EvFTepdw7",
        "colab_type": "text"
      },
      "source": [
        "For part 2 of this week's assignment, I have decided to create a classifier that can identify the type of topography based on the image provided. I have taken 7 types or classes of images, namely mountains, beaches, rivers, ocean, ice landmass, mars surface and moon surface.\n",
        "I have used a CNN architecture to train my model and have achieved a near 86% accuracy. I will also be attaching screenshots of the training and validation loss along with my code.\n",
        "The dataset that i used in this project is completely custom made by me using Google Earth Pro application. I took around 100 images of each classes manually, making my training set a total of 700 images.\n",
        "I also saved my model as the validation loss decreased. I will also be uploading the pre trained model which is a .pth file.\n",
        "I am putting up the link to the training and test set that I created so that you can have a look(use BITS mail)\n",
        "\n",
        "Test set: https://drive.google.com/drive/folders/14tqtQnECzQs1eURORDrFQAHOId_9dBLY?usp=sharing\n",
        "\n",
        "Train set: https://drive.google.com/drive/folders/1H30OU5twXHzNkI_w9f6rqfuII-2qd6IX?usp=sharing"
      ]
    },
    {
      "cell_type": "markdown",
      "metadata": {
        "id": "hMa4gbE8p43r",
        "colab_type": "text"
      },
      "source": [
        "Mounting my Google Drive to Colab"
      ]
    },
    {
      "cell_type": "code",
      "metadata": {
        "id": "Oi5DRADZgYEs",
        "colab_type": "code",
        "colab": {
          "base_uri": "https://localhost:8080/",
          "height": 54
        },
        "outputId": "f90cc8ab-b1da-4a15-82f4-3b197bdb0119"
      },
      "source": [
        "from google.colab import drive\n",
        "drive.mount('/content/drive')"
      ],
      "execution_count": null,
      "outputs": [
        {
          "output_type": "stream",
          "text": [
            "Drive already mounted at /content/drive; to attempt to forcibly remount, call drive.mount(\"/content/drive\", force_remount=True).\n"
          ],
          "name": "stdout"
        }
      ]
    },
    {
      "cell_type": "markdown",
      "metadata": {
        "id": "kWZLlm7fp9ah",
        "colab_type": "text"
      },
      "source": [
        "Importing necessary libraries"
      ]
    },
    {
      "cell_type": "code",
      "metadata": {
        "id": "-IyXnZ11gchR",
        "colab_type": "code",
        "colab": {}
      },
      "source": [
        "import torch \n",
        "from torch import nn\n",
        "import torch.nn.functional as F\n",
        "import helper\n",
        "from torch import optim\n",
        "import matplotlib.pyplot as plt\n",
        "from torchvision import datasets, transforms\n",
        "from torch.utils.data.sampler import SubsetRandomSampler\n",
        "import numpy"
      ],
      "execution_count": null,
      "outputs": []
    },
    {
      "cell_type": "markdown",
      "metadata": {
        "id": "3754cWyLqBIR",
        "colab_type": "text"
      },
      "source": [
        "Defining my model architecture using class method"
      ]
    },
    {
      "cell_type": "code",
      "metadata": {
        "id": "U2bRU5lAiQgX",
        "colab_type": "code",
        "colab": {}
      },
      "source": [
        "class Features_Net(nn.Module):\n",
        "  def __init__(self):\n",
        "    super().__init__()\n",
        "    self.cnn1 = nn.Conv2d(3, 16, 3, padding = 1)\n",
        "    self.cnn2 = nn.Conv2d(16, 32, 3, padding = 1)\n",
        "    self.cnn3 = nn.Conv2d(32, 64, 3, padding = 1)\n",
        "    self.maxPool = nn.MaxPool2d(4,4)\n",
        "    self.fp1 = nn.Linear(64*16, 10000)\n",
        "    self.fp2 = nn.Linear(10000, 1024)\n",
        "    self.fp3 = nn.Linear(1024, 128)\n",
        "    self.fp4 = nn.Linear(128, 7)\n",
        "    self.dropout = nn.Dropout(p = 0.2)\n",
        "\n",
        "  def forward(self, x):\n",
        "    x = self.maxPool(F.relu(self.cnn1(x)))\n",
        "    x = self.maxPool(F.relu(self.cnn2(x)))\n",
        "    x = self.maxPool(F.relu(self.cnn3(x)))\n",
        "    x = x.view(-1,64*16)\n",
        "    x = self.dropout(F.relu(self.fp1(x)))\n",
        "    x = self.dropout(F.relu(self.fp2(x)))\n",
        "    x = self.dropout(F.relu(self.fp3(x)))\n",
        "    \n",
        "    x = F.log_softmax(self.fp4(x), dim = 1)\n",
        "\n",
        "    return x\n"
      ],
      "execution_count": null,
      "outputs": []
    },
    {
      "cell_type": "markdown",
      "metadata": {
        "id": "OUa1qmOpqEEg",
        "colab_type": "text"
      },
      "source": [
        "Preprocessing and loading the training and test set"
      ]
    },
    {
      "cell_type": "code",
      "metadata": {
        "id": "L46wz_LDiX-G",
        "colab_type": "code",
        "colab": {}
      },
      "source": [
        "data_dir1 = '/content/drive/My Drive/training_set/'\n",
        "data_dir2 = '/content/drive/My Drive/test_set/'\n",
        "\n",
        "valid_size = 0.1\n",
        "transform = transforms.Compose([transforms.Resize((256,256)),\n",
        "                                transforms.RandomHorizontalFlip(),\n",
        "                                transforms.RandomRotation(90),\n",
        "                                transforms.ToTensor(),\n",
        "                                transforms.Normalize((0.5,0.5,0.5),(0.5,0.5,0.5))])\n",
        "\n",
        "\n",
        "trainset = datasets.ImageFolder(data_dir1, transform = transform)\n",
        "testset = datasets.ImageFolder(data_dir2, transform = transform)\n",
        "\n",
        "#Splitting the training set into train set and validation set to avoid overfitting the data\n",
        "num_train = len(trainset)\n",
        "indices = list(range(num_train))\n",
        "numpy.random.shuffle(indices)\n",
        "split = int(numpy.floor(valid_size * num_train))\n",
        "train_idx, valid_idx = indices[split:], indices[:split]\n",
        "\n",
        "train_sampler = SubsetRandomSampler(train_idx)\n",
        "valid_sampler = SubsetRandomSampler(valid_idx)\n",
        "\n",
        "train_loader = torch.utils.data.DataLoader(trainset, batch_size=20, sampler = train_sampler)\n",
        "valid_loader = torch.utils.data.DataLoader(trainset, batch_size=20, sampler = valid_sampler)\n",
        "test_loader = torch.utils.data.DataLoader(testset, batch_size=20, shuffle=True)\n"
      ],
      "execution_count": null,
      "outputs": []
    },
    {
      "cell_type": "markdown",
      "metadata": {
        "id": "CNDEt9WmqJ9T",
        "colab_type": "text"
      },
      "source": [
        "Code to load the pretrained model. Skip if you want to train again"
      ]
    },
    {
      "cell_type": "code",
      "metadata": {
        "id": "ymKJ6f4-I1Rw",
        "colab_type": "code",
        "colab": {
          "base_uri": "https://localhost:8080/",
          "height": 34
        },
        "outputId": "5440d15e-5f1e-4cd4-f81b-cd75329a6a25"
      },
      "source": [
        "state_dict = torch.load('/content/drive/My Drive/LandFeatureClassifier_CNN.pth')\n",
        "model = Features_Net()\n",
        "model.load_state_dict(state_dict)"
      ],
      "execution_count": null,
      "outputs": [
        {
          "output_type": "execute_result",
          "data": {
            "text/plain": [
              "<All keys matched successfully>"
            ]
          },
          "metadata": {
            "tags": []
          },
          "execution_count": 11
        }
      ]
    },
    {
      "cell_type": "markdown",
      "metadata": {
        "id": "RmdJtuNwqM9V",
        "colab_type": "text"
      },
      "source": [
        "Declaring loss object and optimizer and other necessary variables. Comment the first line if you loaded a pretrained model"
      ]
    },
    {
      "cell_type": "code",
      "metadata": {
        "id": "V9djL-2ijiJO",
        "colab_type": "code",
        "colab": {
          "base_uri": "https://localhost:8080/",
          "height": 1000
        },
        "outputId": "4c17ade8-6d5b-4ccc-cd67-1fbe898d9ed1"
      },
      "source": [
        "model = Features_Net()\n",
        "epochs = 50\n",
        "criterion = nn.NLLLoss()\n",
        "optimizer = optim.Adam(model.parameters(), lr = 0.0001)\n",
        "valid_loss_min = numpy.Inf\n",
        "train_losses, valid_losses = [], []\n",
        "count = 0\n",
        "\n",
        "for epoch in range(epochs):\n",
        "  train_loss = 0\n",
        "  valid_loss = 0\n",
        "  model.train()\n",
        "  for images, labels in train_loader:\n",
        "    optimizer.zero_grad()\n",
        "    outputs = model(images)\n",
        "    tloss = criterion(outputs, labels)\n",
        "    tloss.backward()\n",
        "    optimizer.step()\n",
        "    train_loss += tloss.item()\n",
        "\n",
        "  model.eval()\n",
        "  for image, label in valid_loader:\n",
        "    output = model(image)\n",
        "    vloss = criterion(output, label)\n",
        "    valid_loss += vloss.item()\n",
        "  \n",
        "  train_losses.append(train_loss/len(train_loader))\n",
        "  valid_losses.append(valid_loss/len(valid_loader))\n",
        "  \n",
        "  #Checking if validation loss is less than the minimum validation loss and if so, saving the model to Google Drive\n",
        "  if valid_loss < valid_loss_min:\n",
        "    s = 'Decreasing to new minimum'\n",
        "    print('Saving model...')\n",
        "    torch.save(model.state_dict(), '/content/drive/My Drive/LandFeatureClassifier_CNN.pth')\n",
        "    valid_loss_min = valid_loss\n",
        "    count = 0\n",
        "\n",
        "  else:\n",
        "    s = 'Increasing'\n",
        "    count += 1\n",
        "\n",
        "  if count > 5:\n",
        "    print('Breaking because validation loss is not decreasing')\n",
        "    break\n",
        "  \n",
        "  #Printing out the epoch, training loss, validation loss and whether it is increasing or decreasing\n",
        "  print('Epoch ' + str(epoch) + '   ' + 'Training loss = ' + str(train_loss/len(train_loader.sampler)) + '   ' + 'Validation loss = '  + str(valid_loss/len(valid_loader.sampler)) + '   ' + s)\n",
        "\n",
        "plt.plot(train_losses, label='Training loss')\n",
        "plt.plot(valid_losses, label='Validation loss')"
      ],
      "execution_count": null,
      "outputs": [
        {
          "output_type": "stream",
          "text": [
            "Saving model...\n",
            "Epoch 0   Training loss = 0.09691877805753903   Validation loss = 0.10311763500099752   Decreasing to new minimum\n",
            "Saving model...\n",
            "Epoch 1   Training loss = 0.07527823711779251   Validation loss = 0.07394528033128425   Decreasing to new minimum\n",
            "Saving model...\n",
            "Epoch 2   Training loss = 0.05875388505828656   Validation loss = 0.06228036666983989   Decreasing to new minimum\n",
            "Saving model...\n",
            "Epoch 3   Training loss = 0.051743769999777915   Validation loss = 0.055230557918548584   Decreasing to new minimum\n",
            "Saving model...\n",
            "Epoch 4   Training loss = 0.04754408397296868   Validation loss = 0.052904203756531674   Decreasing to new minimum\n",
            "Epoch 5   Training loss = 0.04475710877884339   Validation loss = 0.05851284959423008   Increasing\n",
            "Saving model...\n",
            "Epoch 6   Training loss = 0.0385869305716096   Validation loss = 0.0444926254784883   Decreasing to new minimum\n",
            "Saving model...\n",
            "Epoch 7   Training loss = 0.03358569834688709   Validation loss = 0.04448854033626727   Decreasing to new minimum\n",
            "Saving model...\n",
            "Epoch 8   Training loss = 0.03108518730492482   Validation loss = 0.02884182089300298   Decreasing to new minimum\n",
            "Epoch 9   Training loss = 0.030827141978559715   Validation loss = 0.03375592116099685   Increasing\n",
            "Saving model...\n",
            "Epoch 10   Training loss = 0.024478994777100315   Validation loss = 0.0268042078658716   Decreasing to new minimum\n",
            "Saving model...\n",
            "Epoch 11   Training loss = 0.021549670978544568   Validation loss = 0.01741562194343823   Decreasing to new minimum\n",
            "Epoch 12   Training loss = 0.01646458013321307   Validation loss = 0.01996125948073259   Increasing\n",
            "Epoch 13   Training loss = 0.01332902074745386   Validation loss = 0.02105575766581208   Increasing\n",
            "Saving model...\n",
            "Epoch 14   Training loss = 0.012583964790153031   Validation loss = 0.017098623758821346   Decreasing to new minimum\n",
            "Saving model...\n",
            "Epoch 15   Training loss = 0.010100974058947547   Validation loss = 0.013187214329060334   Decreasing to new minimum\n",
            "Saving model...\n",
            "Epoch 16   Training loss = 0.009461543630353689   Validation loss = 0.010776065567980952   Decreasing to new minimum\n",
            "Saving model...\n",
            "Epoch 17   Training loss = 0.007632738709289937   Validation loss = 0.009156800862123718   Decreasing to new minimum\n",
            "Epoch 18   Training loss = 0.007380676772383967   Validation loss = 0.013907027889543505   Increasing\n",
            "Epoch 19   Training loss = 0.007799544224128274   Validation loss = 0.011706514436918409   Increasing\n",
            "Epoch 20   Training loss = 0.008552863228783356   Validation loss = 0.014227838547372106   Increasing\n",
            "Epoch 21   Training loss = 0.006042910856579003   Validation loss = 0.01038745065122398   Increasing\n",
            "Epoch 22   Training loss = 0.005157400614185499   Validation loss = 0.009324746734615582   Increasing\n",
            "Saving model...\n",
            "Epoch 23   Training loss = 0.00595317307318693   Validation loss = 0.009091948951358226   Decreasing to new minimum\n",
            "Epoch 24   Training loss = 0.005847525586168168   Validation loss = 0.01113351412228684   Increasing\n",
            "Saving model...\n",
            "Epoch 25   Training loss = 0.0037916630119232846   Validation loss = 0.008170733704412384   Decreasing to new minimum\n",
            "Epoch 26   Training loss = 0.0059380172429108384   Validation loss = 0.014047340330070079   Increasing\n",
            "Epoch 27   Training loss = 0.005733030218102357   Validation loss = 0.011456997870509304   Increasing\n",
            "Saving model...\n",
            "Epoch 28   Training loss = 0.006951825711691733   Validation loss = 0.008122603700899365   Decreasing to new minimum\n",
            "Epoch 29   Training loss = 0.004322063083308611   Validation loss = 0.008351658582131364   Increasing\n",
            "Epoch 30   Training loss = 0.005296864681308567   Validation loss = 0.016377109770120968   Increasing\n",
            "Epoch 31   Training loss = 0.003696498795329492   Validation loss = 0.00910512471585465   Increasing\n",
            "Epoch 32   Training loss = 0.004223250665067213   Validation loss = 0.012089211994142675   Increasing\n",
            "Epoch 33   Training loss = 0.0031475028804604814   Validation loss = 0.0115973863702045   Increasing\n",
            "Saving model...\n",
            "Epoch 34   Training loss = 0.0029934501519777103   Validation loss = 0.007628372078066442   Decreasing to new minimum\n",
            "Epoch 35   Training loss = 0.00345703964690269   Validation loss = 0.010107045558823356   Increasing\n",
            "Epoch 36   Training loss = 0.004396022580219771   Validation loss = 0.010718398018559413   Increasing\n",
            "Epoch 37   Training loss = 0.0032390728008874965   Validation loss = 0.011184000521342255   Increasing\n",
            "Saving model...\n",
            "Epoch 38   Training loss = 0.003412372035377047   Validation loss = 0.00750962311554867   Decreasing to new minimum\n",
            "Epoch 39   Training loss = 0.003249184571962693   Validation loss = 0.01851888587559337   Increasing\n",
            "Saving model...\n",
            "Epoch 40   Training loss = 0.003667852250020029   Validation loss = 0.0066754297812038395   Decreasing to new minimum\n",
            "Epoch 41   Training loss = 0.0035032678832355333   Validation loss = 0.014107850227338164   Increasing\n",
            "Epoch 42   Training loss = 0.00365746688372809   Validation loss = 0.008107779325166745   Increasing\n",
            "Epoch 43   Training loss = 0.0032414009924455495   Validation loss = 0.010786144556338662   Increasing\n",
            "Epoch 44   Training loss = 0.0021903478469785685   Validation loss = 0.007895754712786692   Increasing\n",
            "Saving model...\n",
            "Epoch 45   Training loss = 0.0028342600691319744   Validation loss = 0.006026909860379215   Decreasing to new minimum\n",
            "Epoch 46   Training loss = 0.002693333032943628   Validation loss = 0.01685853662497517   Increasing\n",
            "Epoch 47   Training loss = 0.0023282426044424816   Validation loss = 0.013239001848304005   Increasing\n",
            "Epoch 48   Training loss = 0.0020128794766735075   Validation loss = 0.01149948550138011   Increasing\n",
            "Epoch 49   Training loss = 0.0021302222960825285   Validation loss = 0.008953793078605363   Increasing\n"
          ],
          "name": "stdout"
        },
        {
          "output_type": "execute_result",
          "data": {
            "text/plain": [
              "[<matplotlib.lines.Line2D at 0x7fcb5a1a5748>]"
            ]
          },
          "metadata": {
            "tags": []
          },
          "execution_count": 18
        },
        {
          "output_type": "display_data",
          "data": {
            "image/png": "[encoded data removed]",
            "text/plain": [
              "<Figure size 432x288 with 1 Axes>"
            ]
          },
          "metadata": {
            "tags": [],
            "needs_background": "light"
          }
        }
      ]
    },
    {
      "cell_type": "code",
      "metadata": {
        "id": "wzEy8hPVBlAo",
        "colab_type": "code",
        "colab": {
          "base_uri": "https://localhost:8080/",
          "height": 34
        },
        "outputId": "4c4cca3d-25fe-48e4-a9a1-a8328f832a1e"
      },
      "source": [
        "accuracy = 0\n",
        "count = 0\n",
        "\n",
        "with torch.no_grad():\n",
        "  for images, labels in test_loader:\n",
        "    log_ps = model(images)           \n",
        "    ps = torch.exp(log_ps)\n",
        "    top_p, top_class = ps.topk(1, dim=1)\n",
        "    equals = top_class == labels.view(*top_class.shape)\n",
        "    for i in range(len(equals)):\n",
        "      if equals[i] == True:\n",
        "        count += 1\n",
        "    \n",
        "accuracy = count*100/len(test_loader.sampler)\n",
        "print(accuracy)\n"
      ],
      "execution_count": null,
      "outputs": [
        {
          "output_type": "stream",
          "text": [
            "84.78260869565217\n"
          ],
          "name": "stdout"
        }
      ]
    },
    {
      "cell_type": "code",
      "metadata": {
        "id": "gkJTyBZoDJqp",
        "colab_type": "code",
        "colab": {}
      },
      "source": [
        ""
      ],
      "execution_count": null,
      "outputs": []
    }
  ]
}